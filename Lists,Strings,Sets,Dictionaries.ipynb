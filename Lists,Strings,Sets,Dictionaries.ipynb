{
  "nbformat": 4,
  "nbformat_minor": 0,
  "metadata": {
    "colab": {
      "name": "Lists,Strings,Sets,Dictionaries.ipynb",
      "provenance": [],
      "authorship_tag": "ABX9TyPhEZaiPl7HwyS5WlquVi70",
      "include_colab_link": true
    },
    "kernelspec": {
      "name": "python3",
      "display_name": "Python 3"
    },
    "language_info": {
      "name": "python"
    }
  },
  "cells": [
    {
      "cell_type": "markdown",
      "metadata": {
        "id": "view-in-github",
        "colab_type": "text"
      },
      "source": [
        "<a href=\"https://colab.research.google.com/github/heshu-000/python/blob/main/Lists%2CStrings%2CSets%2CDictionaries.ipynb\" target=\"_parent\"><img src=\"https://colab.research.google.com/assets/colab-badge.svg\" alt=\"Open In Colab\"/></a>"
      ]
    },
    {
      "cell_type": "markdown",
      "source": [
        "# LISTS"
      ],
      "metadata": {
        "id": "3mSzZcrzVGuA"
      }
    },
    {
      "cell_type": "code",
      "source": [
        "#append = adds at last pos\n",
        "x = ['a', 'b', 'c']\n",
        "x.append(\"o\")\n",
        "print (x[3])"
      ],
      "metadata": {
        "colab": {
          "base_uri": "https://localhost:8080/"
        },
        "id": "v2tWoH5kVIoG",
        "outputId": "ca8bbcc9-c370-4e8c-9f87-f7a986106b00"
      },
      "execution_count": 12,
      "outputs": [
        {
          "output_type": "stream",
          "name": "stdout",
          "text": [
            "o\n"
          ]
        }
      ]
    },
    {
      "cell_type": "code",
      "source": [
        "#insert\n",
        "x = ['a', 'b', 'c','d']\n",
        "print (x)\n",
        "x.insert (2,\"g\")\n",
        "print (x)\n",
        "\n"
      ],
      "metadata": {
        "colab": {
          "base_uri": "https://localhost:8080/"
        },
        "id": "Q0cKStSjUSEs",
        "outputId": "7fe4b67c-971e-445c-a345-080bc2493480"
      },
      "execution_count": 68,
      "outputs": [
        {
          "output_type": "stream",
          "name": "stdout",
          "text": [
            "['a', 'b', 'c', 'd']\n",
            "['a', 'b', 'g', 'c', 'd']\n"
          ]
        }
      ]
    },
    {
      "cell_type": "code",
      "source": [
        "#remove\n",
        "x = ['a', 'b', 'c','d']\n",
        "print (x)\n",
        "x.remove (\"b\")\n",
        "print (x)\n"
      ],
      "metadata": {
        "colab": {
          "base_uri": "https://localhost:8080/"
        },
        "id": "1RIu13NBUazF",
        "outputId": "d0244dd2-5067-495a-9189-790a164d9267"
      },
      "execution_count": 69,
      "outputs": [
        {
          "output_type": "stream",
          "name": "stdout",
          "text": [
            "['a', 'b', 'c', 'd']\n",
            "['a', 'c', 'd']\n"
          ]
        }
      ]
    },
    {
      "cell_type": "code",
      "source": [
        "#pop\n",
        "x = ['a','a','b', 'c','d']\n",
        "print (x)\n",
        "x.pop(1)\n",
        "print (x)\n"
      ],
      "metadata": {
        "colab": {
          "base_uri": "https://localhost:8080/"
        },
        "id": "RGC50Dy_UfH7",
        "outputId": "2f96c10f-aa78-4e08-9dc9-12a361a5b17a"
      },
      "execution_count": 70,
      "outputs": [
        {
          "output_type": "stream",
          "name": "stdout",
          "text": [
            "['a', 'a', 'b', 'c', 'd']\n",
            "['a', 'b', 'c', 'd']\n"
          ]
        }
      ]
    },
    {
      "cell_type": "code",
      "source": [
        "#number descending sort\n",
        "num = [\"1\",\"5\",\"9\",\"4\",\"-2\"]\n",
        "print (num)\n",
        "num.sort (reverse=True)\n",
        "print (num)\n"
      ],
      "metadata": {
        "colab": {
          "base_uri": "https://localhost:8080/"
        },
        "id": "XjPGeEFEUjVg",
        "outputId": "65439bff-6609-449e-ae33-fcc37fb5b5a8"
      },
      "execution_count": 6,
      "outputs": [
        {
          "output_type": "stream",
          "name": "stdout",
          "text": [
            "['1', '5', '9', '4', '-2']\n",
            "['9', '5', '4', '1', '-2']\n"
          ]
        }
      ]
    },
    {
      "cell_type": "code",
      "source": [
        "#sort\n",
        "alpha = [\"a\",\"e\",\"c\"]\n",
        "print (alpha)\n",
        "alpha.sort()\n",
        "print (alpha)\n"
      ],
      "metadata": {
        "colab": {
          "base_uri": "https://localhost:8080/"
        },
        "id": "ZsDqY0SIUneS",
        "outputId": "2fa4a120-cd9c-4709-deaa-0c92c42b65ea"
      },
      "execution_count": 7,
      "outputs": [
        {
          "output_type": "stream",
          "name": "stdout",
          "text": [
            "['a', 'e', 'c']\n",
            "['a', 'c', 'e']\n"
          ]
        }
      ]
    },
    {
      "cell_type": "code",
      "source": [
        "#reverse\n",
        "alpha = [\"a\",\"e\",\"c\"]\n",
        "print (alpha)\n",
        "alpha.reverse()\n",
        "print (alpha)\n"
      ],
      "metadata": {
        "colab": {
          "base_uri": "https://localhost:8080/"
        },
        "id": "HAHdd4OwUqZr",
        "outputId": "1c7d638a-2511-4de2-b192-0229892f2dd2"
      },
      "execution_count": 8,
      "outputs": [
        {
          "output_type": "stream",
          "name": "stdout",
          "text": [
            "['a', 'e', 'c']\n",
            "['c', 'e', 'a']\n"
          ]
        }
      ]
    },
    {
      "cell_type": "code",
      "source": [
        "#for loop\n",
        "fruits = [\"apple\", \"banana\", \"cherry\"]\n",
        "for x in fruits:\n",
        "  print(x)\n"
      ],
      "metadata": {
        "colab": {
          "base_uri": "https://localhost:8080/"
        },
        "id": "8rR_8F9UUwyd",
        "outputId": "526d86e2-d0c0-4419-9ed3-9efc800afa80"
      },
      "execution_count": 9,
      "outputs": [
        {
          "output_type": "stream",
          "name": "stdout",
          "text": [
            "apple\n",
            "banana\n",
            "cherry\n"
          ]
        }
      ]
    },
    {
      "cell_type": "code",
      "source": [
        "#while loop\n",
        "i = 1\n",
        "while i < 6:\n",
        "  print(i)\n",
        "  i += 1\n"
      ],
      "metadata": {
        "colab": {
          "base_uri": "https://localhost:8080/"
        },
        "id": "DgVZ0YHOUy0m",
        "outputId": "87c16fcc-001a-42c0-ce19-66fb2462686a"
      },
      "execution_count": 10,
      "outputs": [
        {
          "output_type": "stream",
          "name": "stdout",
          "text": [
            "1\n",
            "2\n",
            "3\n",
            "4\n",
            "5\n"
          ]
        }
      ]
    },
    {
      "cell_type": "markdown",
      "source": [
        "# STRINGS"
      ],
      "metadata": {
        "id": "GSaL1tYwU3cl"
      }
    },
    {
      "cell_type": "code",
      "source": [
        "a = \"rrr movie has been released\"\n",
        "print (a.upper())\n"
      ],
      "metadata": {
        "colab": {
          "base_uri": "https://localhost:8080/"
        },
        "id": "B5YaFSyfU7T6",
        "outputId": "7f98627b-3b81-467f-af4c-1e86250e5d03"
      },
      "execution_count": 13,
      "outputs": [
        {
          "output_type": "stream",
          "name": "stdout",
          "text": [
            "RRR MOVIE HAS BEEN RELEASED\n"
          ]
        }
      ]
    },
    {
      "cell_type": "code",
      "source": [
        "#remove spaces\n",
        "a = \"        rrr movie has been released\"\n",
        "print (a.strip())\n"
      ],
      "metadata": {
        "colab": {
          "base_uri": "https://localhost:8080/"
        },
        "id": "3lQM1ADDVUkM",
        "outputId": "471da404-a0d4-42e9-a188-eb4e7ca706c9"
      },
      "execution_count": 14,
      "outputs": [
        {
          "output_type": "stream",
          "name": "stdout",
          "text": [
            "rrr movie has been released\n"
          ]
        }
      ]
    },
    {
      "cell_type": "code",
      "source": [
        "a = \"rrr movie has been released\"\n",
        "print (a.replace(\"rrr\",\"Radhe Shyam\"))\n"
      ],
      "metadata": {
        "colab": {
          "base_uri": "https://localhost:8080/"
        },
        "id": "bIpKjod0Vaw9",
        "outputId": "2224ecc3-bd02-413e-d5d7-8fd0507b3875"
      },
      "execution_count": 15,
      "outputs": [
        {
          "output_type": "stream",
          "name": "stdout",
          "text": [
            "Radhe Shyam movie has been released\n"
          ]
        }
      ]
    },
    {
      "cell_type": "code",
      "source": [
        "a = \"rrr movie has been released\"\n",
        "print (a.split())\n"
      ],
      "metadata": {
        "colab": {
          "base_uri": "https://localhost:8080/"
        },
        "id": "SldyKW7yVcuL",
        "outputId": "17553d05-3abb-4ac0-a639-d8e20e0be9f1"
      },
      "execution_count": 16,
      "outputs": [
        {
          "output_type": "stream",
          "name": "stdout",
          "text": [
            "['rrr', 'movie', 'has', 'been', 'released']\n"
          ]
        }
      ]
    },
    {
      "cell_type": "code",
      "source": [
        "a = \"rrr movie, has been released\"\n",
        "print (a.split(\",\"))\n"
      ],
      "metadata": {
        "colab": {
          "base_uri": "https://localhost:8080/"
        },
        "id": "vQuTHqJnVgR3",
        "outputId": "10bbcefa-71dc-4ac7-d681-8417aab19384"
      },
      "execution_count": 17,
      "outputs": [
        {
          "output_type": "stream",
          "name": "stdout",
          "text": [
            "['rrr movie', ' has been released']\n"
          ]
        }
      ]
    },
    {
      "cell_type": "code",
      "source": [
        "a = \"Hello\"\n",
        "b = \"World\"\n",
        "c = a + b\n",
        "print(c)\n"
      ],
      "metadata": {
        "colab": {
          "base_uri": "https://localhost:8080/"
        },
        "id": "HK2bx57WVk4p",
        "outputId": "7dcd431c-c63b-4866-b8b8-3984f4071ea3"
      },
      "execution_count": 18,
      "outputs": [
        {
          "output_type": "stream",
          "name": "stdout",
          "text": [
            "HelloWorld\n"
          ]
        }
      ]
    },
    {
      "cell_type": "code",
      "source": [
        "a = \"Hello\"\n",
        "b = \"World\"\n",
        "c = a + \" \" + b\n",
        "print(c)\n"
      ],
      "metadata": {
        "colab": {
          "base_uri": "https://localhost:8080/"
        },
        "id": "JTK5Xb7bVpDm",
        "outputId": "3a50b20a-c04d-42e5-9ff0-660bf922f178"
      },
      "execution_count": 19,
      "outputs": [
        {
          "output_type": "stream",
          "name": "stdout",
          "text": [
            "Hello World\n"
          ]
        }
      ]
    },
    {
      "cell_type": "code",
      "source": [
        "quantity = int(input(\"Enter quantity:\"))\n",
        "itemno = str(input(\"Enter item name:\"))\n",
        "price = int(input(\"Enter price:\"))\n",
        "total = quantity * price\n",
        "myorder = \"I bought {} packs of {} for {} rupees.\"\n",
        "print(myorder.format(quantity, itemno, total))"
      ],
      "metadata": {
        "colab": {
          "base_uri": "https://localhost:8080/"
        },
        "id": "Hvj3kwzCVtp-",
        "outputId": "3ff4a16a-f417-453c-deb1-85372d198cd9"
      },
      "execution_count": 20,
      "outputs": [
        {
          "output_type": "stream",
          "name": "stdout",
          "text": [
            "Enter quantity:6\n",
            "Enter item name:mango\n",
            "Enter price:40\n",
            "I bought 6 packs of mango for 240 rupees.\n"
          ]
        }
      ]
    },
    {
      "cell_type": "code",
      "source": [
        "sub1 = int(input(\"Enter marks:\"))\n",
        "sub2 = int(input(\"Enter marks:\"))\n",
        "sub3 = int(input(\"Enter marks:\"))\n",
        "sub4 = int(input(\"Enter marks:\"))\n",
        "marks = sub1 + sub2 + sub3 + sub4\n",
        "result = \"Got {} in sub1, {} in sub2, {} in sub3, {} in sub3 with a total of {}\"\n",
        "print(result.format(sub1, sub2, sub3,sub4,marks))\n"
      ],
      "metadata": {
        "colab": {
          "base_uri": "https://localhost:8080/"
        },
        "id": "_gNUXZPpV2bu",
        "outputId": "90318311-ec03-476e-f566-2a7ef4869502"
      },
      "execution_count": 21,
      "outputs": [
        {
          "output_type": "stream",
          "name": "stdout",
          "text": [
            "Enter marks:50\n",
            "Enter marks:60\n",
            "Enter marks:12\n",
            "Enter marks:34\n",
            "Got 50 in sub1, 60 in sub2, 12 in sub3, 34 in sub3 with a total of 156\n"
          ]
        }
      ]
    },
    {
      "cell_type": "code",
      "source": [
        "txt = \"We are the so-called \\\"Vikings\\\" from the north.\"\n",
        "print (txt)\n"
      ],
      "metadata": {
        "colab": {
          "base_uri": "https://localhost:8080/"
        },
        "id": "f-n6t32HWAfn",
        "outputId": "3d8d44ac-6d36-4c78-bce0-64ecf547d0dc"
      },
      "execution_count": 22,
      "outputs": [
        {
          "output_type": "stream",
          "name": "stdout",
          "text": [
            "We are the so-called \"Vikings\" from the north.\n"
          ]
        }
      ]
    },
    {
      "cell_type": "code",
      "source": [
        "txt = \"rrr has been \\breleased\"\n",
        "print (txt)\n"
      ],
      "metadata": {
        "colab": {
          "base_uri": "https://localhost:8080/"
        },
        "id": "TxyGqeSNWGuJ",
        "outputId": "10aacfc2-1c15-4529-b023-b1885a4e965b"
      },
      "execution_count": 23,
      "outputs": [
        {
          "output_type": "stream",
          "name": "stdout",
          "text": [
            "rrr has been \breleased\n"
          ]
        }
      ]
    },
    {
      "cell_type": "code",
      "source": [
        "txt = \"rrr has been \\nreleased\"\n",
        "print (txt)\n"
      ],
      "metadata": {
        "colab": {
          "base_uri": "https://localhost:8080/"
        },
        "id": "_I1dvZyRWKkE",
        "outputId": "e37f8b16-ec9e-4fb1-ab46-23564ac9c75e"
      },
      "execution_count": 24,
      "outputs": [
        {
          "output_type": "stream",
          "name": "stdout",
          "text": [
            "rrr has been \n",
            "released\n"
          ]
        }
      ]
    },
    {
      "cell_type": "markdown",
      "source": [
        ""
      ],
      "metadata": {
        "id": "Iyj911WoWMZO"
      }
    },
    {
      "cell_type": "markdown",
      "source": [
        "# SETS"
      ],
      "metadata": {
        "id": "eW2k1Ub4WM6Q"
      }
    },
    {
      "cell_type": "code",
      "source": [
        "thisset = {\"csk\", \"mi\", \"rr\"}\n",
        "print(thisset)\n"
      ],
      "metadata": {
        "colab": {
          "base_uri": "https://localhost:8080/"
        },
        "id": "jqt5J-OFWPtp",
        "outputId": "d955e55a-ee6a-471f-9699-90b8e9adff3f"
      },
      "execution_count": 25,
      "outputs": [
        {
          "output_type": "stream",
          "name": "stdout",
          "text": [
            "{'csk', 'mi', 'rr'}\n"
          ]
        }
      ]
    },
    {
      "cell_type": "code",
      "source": [
        "thisset = {\"mi\", \"csk\", \"rr\"}\n",
        "print(len(thisset))"
      ],
      "metadata": {
        "colab": {
          "base_uri": "https://localhost:8080/"
        },
        "id": "4SuiDDTrWdqZ",
        "outputId": "fe1cec23-2c71-4b5a-cd42-de771aa7656c"
      },
      "execution_count": 26,
      "outputs": [
        {
          "output_type": "stream",
          "name": "stdout",
          "text": [
            "3\n"
          ]
        }
      ]
    },
    {
      "cell_type": "code",
      "source": [
        "set1 = {\"abc\", 34, True, 40, \"male\"}\n",
        "print(set1)\n"
      ],
      "metadata": {
        "colab": {
          "base_uri": "https://localhost:8080/"
        },
        "id": "n9Oo6RYEWg2T",
        "outputId": "960426ed-1788-4f18-fb7e-59ab899d854c"
      },
      "execution_count": 27,
      "outputs": [
        {
          "output_type": "stream",
          "name": "stdout",
          "text": [
            "{True, 34, 40, 'male', 'abc'}\n"
          ]
        }
      ]
    },
    {
      "cell_type": "code",
      "source": [
        "myset = {\"apple\", \"banana\", \"cherry\"}\n",
        "print(type(myset))\n"
      ],
      "metadata": {
        "colab": {
          "base_uri": "https://localhost:8080/"
        },
        "id": "X9JATdLzWnJa",
        "outputId": "4effb53b-45c4-43b1-902f-23d2026b2d8f"
      },
      "execution_count": 28,
      "outputs": [
        {
          "output_type": "stream",
          "name": "stdout",
          "text": [
            "<class 'set'>\n"
          ]
        }
      ]
    },
    {
      "cell_type": "code",
      "source": [
        "#Create a Set\n",
        "x = {\"a\", \"b\", \"c\"}\n",
        "print(x)\n"
      ],
      "metadata": {
        "colab": {
          "base_uri": "https://localhost:8080/"
        },
        "id": "4G1sAG95XCd1",
        "outputId": "1de4eb17-e099-40fa-ecfb-19eefed111b6"
      },
      "execution_count": 30,
      "outputs": [
        {
          "output_type": "stream",
          "name": "stdout",
          "text": [
            "{'a', 'c', 'b'}\n"
          ]
        }
      ]
    },
    {
      "cell_type": "code",
      "source": [
        "#Sets cannot have two items with the same value.\n",
        "x= {\"a\", \"b\", \"c\", \"a\"}\n",
        "\n",
        "print(x)\n"
      ],
      "metadata": {
        "colab": {
          "base_uri": "https://localhost:8080/"
        },
        "id": "RkwUmsspXKSa",
        "outputId": "b2d2b786-2de4-4bc9-b7d1-0fbf0977a559"
      },
      "execution_count": 31,
      "outputs": [
        {
          "output_type": "stream",
          "name": "stdout",
          "text": [
            "{'a', 'c', 'b'}\n"
          ]
        }
      ]
    },
    {
      "cell_type": "code",
      "source": [
        "# To determine how many items a set has, use the len() function\n",
        "x= {\"a\", \"b\", \"c\"}\n",
        "\n",
        "print(len(x))\n"
      ],
      "metadata": {
        "colab": {
          "base_uri": "https://localhost:8080/"
        },
        "id": "ygQbvC_4XLu0",
        "outputId": "99ecba9d-99f3-4dce-efc3-580c47a81ca3"
      },
      "execution_count": 32,
      "outputs": [
        {
          "output_type": "stream",
          "name": "stdout",
          "text": [
            "3\n"
          ]
        }
      ]
    },
    {
      "cell_type": "code",
      "source": [
        "# Set items can be of any data type:\n",
        "set1 = {\"a\", \"b\", \"c\"}\n",
        "set2 = {1, 5, 7, 9, 3}\n",
        "set3 = {True, False, False}\n",
        "\n",
        "print(set1)\n",
        "print(set2)\n",
        "print(set3)\n"
      ],
      "metadata": {
        "colab": {
          "base_uri": "https://localhost:8080/"
        },
        "id": "C7hbMe_mXQLY",
        "outputId": "9fa1e1dc-4c89-48f7-b291-fa53d9bfc023"
      },
      "execution_count": 33,
      "outputs": [
        {
          "output_type": "stream",
          "name": "stdout",
          "text": [
            "{'a', 'c', 'b'}\n",
            "{1, 3, 5, 7, 9}\n",
            "{False, True}\n"
          ]
        }
      ]
    },
    {
      "cell_type": "code",
      "source": [
        "# Loop through the set, and print the values:\n",
        "y = {\"a\", \"b\", \"c\"}\n",
        "\n",
        "for x in y:\n",
        "  print(x)\n"
      ],
      "metadata": {
        "colab": {
          "base_uri": "https://localhost:8080/"
        },
        "id": "wqW7mZdIXWGJ",
        "outputId": "c5c0259e-9875-4d30-90ba-e32f643e2115"
      },
      "execution_count": 34,
      "outputs": [
        {
          "output_type": "stream",
          "name": "stdout",
          "text": [
            "a\n",
            "c\n",
            "b\n"
          ]
        }
      ]
    },
    {
      "cell_type": "code",
      "source": [
        "# Check if \"b\" is present in the set:\n",
        "x = {\"a\", \"b\", \"c\"}\n",
        "\n",
        "print(\"b\" in x)\n"
      ],
      "metadata": {
        "colab": {
          "base_uri": "https://localhost:8080/"
        },
        "id": "VzkVmPGWXYQH",
        "outputId": "44a141c4-425d-4c80-ad4f-8449b6d34a76"
      },
      "execution_count": 35,
      "outputs": [
        {
          "output_type": "stream",
          "name": "stdout",
          "text": [
            "True\n"
          ]
        }
      ]
    },
    {
      "cell_type": "code",
      "source": [
        "# Add an item to a set, using the add() method:\n",
        "x = {\"a\", \"b\", \"c\"}\n",
        "\n",
        "x.add(\"ashok\")\n",
        "\n",
        "print(x)\n"
      ],
      "metadata": {
        "colab": {
          "base_uri": "https://localhost:8080/"
        },
        "id": "u4l2i6wtXh2k",
        "outputId": "92387c98-f402-4488-f4fa-4f885de4a82e"
      },
      "execution_count": 36,
      "outputs": [
        {
          "output_type": "stream",
          "name": "stdout",
          "text": [
            "{'a', 'ashok', 'c', 'b'}\n"
          ]
        }
      ]
    },
    {
      "cell_type": "code",
      "source": [
        "# Add elements from tropical into thisset:\n",
        "x = {\"a\", \"b\", \"c\"}\n",
        "y = {\"pi\", \"m\", \"p\"}\n",
        "\n",
        "x.update(y)\n",
        "\n",
        "print(x)\n"
      ],
      "metadata": {
        "colab": {
          "base_uri": "https://localhost:8080/"
        },
        "id": "QQRevMIYXjcu",
        "outputId": "443c8d77-907f-4d8c-85ae-fa1a3c83708d"
      },
      "execution_count": 37,
      "outputs": [
        {
          "output_type": "stream",
          "name": "stdout",
          "text": [
            "{'a', 'm', 'p', 'c', 'b', 'pi'}\n"
          ]
        }
      ]
    },
    {
      "cell_type": "code",
      "source": [
        "# Remove \"b\" by using the remove() method:\n",
        "x = {\"a\", \"b\", \"c\"}\n",
        "\n",
        "x.remove(\"b\")\n",
        "\n",
        "print(x)\n"
      ],
      "metadata": {
        "colab": {
          "base_uri": "https://localhost:8080/"
        },
        "id": "d_NvKZaUXwqy",
        "outputId": "1d2891ea-80c9-4048-b05d-f23a04ae1914"
      },
      "execution_count": 38,
      "outputs": [
        {
          "output_type": "stream",
          "name": "stdout",
          "text": [
            "{'a', 'c'}\n"
          ]
        }
      ]
    },
    {
      "cell_type": "code",
      "source": [
        "#Remove the last item by using the pop() method:\n",
        "y = {\"a\", \"b\", \"c\"}\n",
        "\n",
        "x = y.pop()\n",
        "\n",
        "print(x)\n",
        "\n",
        "print(y)\n"
      ],
      "metadata": {
        "colab": {
          "base_uri": "https://localhost:8080/"
        },
        "id": "kvgCQf41X1w0",
        "outputId": "8db552ea-6c7e-4573-de41-c15b6b748688"
      },
      "execution_count": 39,
      "outputs": [
        {
          "output_type": "stream",
          "name": "stdout",
          "text": [
            "a\n",
            "{'c', 'b'}\n"
          ]
        }
      ]
    },
    {
      "cell_type": "code",
      "source": [
        "#The clear() method empties the set:\n",
        "x = {\"a\", \"b\", \"c\"}\n",
        "\n",
        "x.clear()\n",
        "\n",
        "print(x)\n"
      ],
      "metadata": {
        "colab": {
          "base_uri": "https://localhost:8080/"
        },
        "id": "Yl_QhgTMX5k-",
        "outputId": "7b0d8d6e-2c69-401a-fa66-a04212b8b74e"
      },
      "execution_count": 40,
      "outputs": [
        {
          "output_type": "stream",
          "name": "stdout",
          "text": [
            "set()\n"
          ]
        }
      ]
    },
    {
      "cell_type": "code",
      "source": [
        "#The union() method returns a new set with all items from both sets:\n",
        "a = {\"ashok\", \"amruth\" , \"c\"}\n",
        "b = {1, 2, 3}\n",
        "\n",
        "c = a.union(b)\n",
        "print(c)\n"
      ],
      "metadata": {
        "colab": {
          "base_uri": "https://localhost:8080/"
        },
        "id": "ely442RxX7KQ",
        "outputId": "3620bac3-6538-494a-ec95-5b59743cf49d"
      },
      "execution_count": 41,
      "outputs": [
        {
          "output_type": "stream",
          "name": "stdout",
          "text": [
            "{1, 2, 'amruth', 3, 'ashok', 'c'}\n"
          ]
        }
      ]
    },
    {
      "cell_type": "code",
      "source": [
        "# The update() method inserts the items in b into a:\n",
        "a = {\"ashok\", \"amruth\" , \"c\"}\n",
        "b = {1, 2, 3}\n",
        "\n",
        "a.update(b)\n",
        "print(a)\n"
      ],
      "metadata": {
        "colab": {
          "base_uri": "https://localhost:8080/"
        },
        "id": "ycT8DPLFYEyu",
        "outputId": "de5b22ef-1dff-44de-d456-9eba55fdd27c"
      },
      "execution_count": 42,
      "outputs": [
        {
          "output_type": "stream",
          "name": "stdout",
          "text": [
            "{1, 2, 'amruth', 3, 'ashok', 'c'}\n"
          ]
        }
      ]
    },
    {
      "cell_type": "code",
      "source": [
        "# Keep the items that exist in both set x, and set y:\n",
        "x = {\"ashok\", \"b\", \"c\"}\n",
        "y = {\"g\", \"m\", \"ashok\"}\n",
        "\n",
        "x.intersection_update(y)\n",
        "\n",
        "print(x)\n"
      ],
      "metadata": {
        "colab": {
          "base_uri": "https://localhost:8080/"
        },
        "id": "2wR2Z7UFYH_U",
        "outputId": "1126bce3-266a-4a02-e8f2-58258ac83dde"
      },
      "execution_count": 43,
      "outputs": [
        {
          "output_type": "stream",
          "name": "stdout",
          "text": [
            "{'ashok'}\n"
          ]
        }
      ]
    },
    {
      "cell_type": "code",
      "source": [
        "# Return a set that contains the items that exist in both set x, and set y\n",
        "x = {\"ashok\", \"b\", \"c\"}\n",
        "y = {\"g\", \"m\", \"ashok\"}\n",
        "\n",
        "z = x.intersection(y)\n",
        "\n",
        "print(z)\n"
      ],
      "metadata": {
        "colab": {
          "base_uri": "https://localhost:8080/"
        },
        "id": "jyeRcaMOYN2u",
        "outputId": "99e16770-4ac1-4386-83e1-33b84a35e63b"
      },
      "execution_count": 44,
      "outputs": [
        {
          "output_type": "stream",
          "name": "stdout",
          "text": [
            "{'ashok'}\n"
          ]
        }
      ]
    },
    {
      "cell_type": "code",
      "source": [
        "# Return a set that contains all items from both sets, except items that are present in both:\n",
        "x = {\"ashok\", \"b\", \"c\"}\n",
        "y = {\"g\", \"m\", \"ashok\"}\n",
        "\n",
        "z = x.symmetric_difference(y)\n",
        "\n",
        "print(z)\n"
      ],
      "metadata": {
        "colab": {
          "base_uri": "https://localhost:8080/"
        },
        "id": "lKWMacf1Ycpl",
        "outputId": "a8731405-c3a0-4234-ba9d-7743671cdfae"
      },
      "execution_count": 45,
      "outputs": [
        {
          "output_type": "stream",
          "name": "stdout",
          "text": [
            "{'g', 'c', 'b', 'm'}\n"
          ]
        }
      ]
    },
    {
      "cell_type": "markdown",
      "source": [
        "# DICTIONARIES"
      ],
      "metadata": {
        "id": "atBTUDjoYnc8"
      }
    },
    {
      "cell_type": "code",
      "source": [
        "# Create and print a dictionary:\n",
        "x = {\n",
        "  \"brand\": \"royal enfield\",\n",
        "  \"model\": \"classic 350\",\n",
        "  \"year\": 1964\n",
        "}\n",
        "print(x)\n"
      ],
      "metadata": {
        "colab": {
          "base_uri": "https://localhost:8080/"
        },
        "id": "OFCAp3f0YtBX",
        "outputId": "088d585b-3b21-4d5c-a62f-ff688aab9298"
      },
      "execution_count": 46,
      "outputs": [
        {
          "output_type": "stream",
          "name": "stdout",
          "text": [
            "{'brand': 'royal enfield', 'model': 'classic 350', 'year': 1964}\n"
          ]
        }
      ]
    },
    {
      "cell_type": "code",
      "source": [
        "#Print the \"brand\" value of the dictionary:\n",
        "x = {\n",
        "  \"brand\": \"royal enfield\",\n",
        "  \"model\": \"classic 350\",\n",
        "  \"year\": 1964\n",
        "}\n",
        "print(x[\"brand\"])\n"
      ],
      "metadata": {
        "colab": {
          "base_uri": "https://localhost:8080/"
        },
        "id": "rJmWkBSUY2Z2",
        "outputId": "9db443a6-2ba9-4704-8a4f-61628bdd58b4"
      },
      "execution_count": 47,
      "outputs": [
        {
          "output_type": "stream",
          "name": "stdout",
          "text": [
            "royal enfield\n"
          ]
        }
      ]
    },
    {
      "cell_type": "code",
      "source": [
        "#Duplicate values will overwrite existing values:\n",
        "thisdict = {\n",
        "  \"brand\": \"royal enfield\",\n",
        "  \"model\": \"classic 350\",\n",
        "  \"year\": 1964,\n",
        "  \"year\": 2022\n",
        "}\n",
        "print(thisdict)\n"
      ],
      "metadata": {
        "colab": {
          "base_uri": "https://localhost:8080/"
        },
        "id": "bk1vHapQY3xY",
        "outputId": "ac3bba8f-6083-45b1-a4b5-15397e4d62b5"
      },
      "execution_count": 48,
      "outputs": [
        {
          "output_type": "stream",
          "name": "stdout",
          "text": [
            "{'brand': 'royal enfield', 'model': 'classic 350', 'year': 2022}\n"
          ]
        }
      ]
    },
    {
      "cell_type": "code",
      "source": [
        "#String, int, boolean, and list data types:\n",
        "x = {\n",
        "  \"brand\": \"royal enfield\",\n",
        "  \"electric\": False,\n",
        "  \"year\": 1964,\n",
        "  \"colors\": [\"red\", \"white\", \"blue\"]\n",
        "  }\n",
        "print(x)\n"
      ],
      "metadata": {
        "colab": {
          "base_uri": "https://localhost:8080/"
        },
        "id": "-x7vQUDkY6t7",
        "outputId": "4b69b71e-f322-497a-ab64-e18268cf6ec8"
      },
      "execution_count": 49,
      "outputs": [
        {
          "output_type": "stream",
          "name": "stdout",
          "text": [
            "{'brand': 'royal enfield', 'electric': False, 'year': 1964, 'colors': ['red', 'white', 'blue']}\n"
          ]
        }
      ]
    },
    {
      "cell_type": "code",
      "source": [
        "# Print the data type of a dictionary:\n",
        "x = {\n",
        "  \"brand\": \"RE\",\n",
        "  \"model\": \"classic 350\",\n",
        "  \"year\": 1964\n",
        "}\n",
        "print(type(x))\n"
      ],
      "metadata": {
        "colab": {
          "base_uri": "https://localhost:8080/"
        },
        "id": "uH3aVxG2ZC91",
        "outputId": "65cf9649-ad0c-4f82-95b2-478e34c3ce34"
      },
      "execution_count": 50,
      "outputs": [
        {
          "output_type": "stream",
          "name": "stdout",
          "text": [
            "<class 'dict'>\n"
          ]
        }
      ]
    },
    {
      "cell_type": "code",
      "source": [
        "#Get the value of the \"model\" key:\n",
        "y = {\n",
        "  \"brand\": \"RE\",\n",
        "  \"model\": \"classic 350\",\n",
        "  \"year\": 1964\n",
        "}\n",
        "x = y[\"model\"]\n",
        "print(x)\n"
      ],
      "metadata": {
        "colab": {
          "base_uri": "https://localhost:8080/"
        },
        "id": "1ROlW6iWZIrF",
        "outputId": "8b7b2f8c-4d4a-4acc-f566-babbd9f991ef"
      },
      "execution_count": 51,
      "outputs": [
        {
          "output_type": "stream",
          "name": "stdout",
          "text": [
            "classic 350\n"
          ]
        }
      ]
    },
    {
      "cell_type": "code",
      "source": [
        "#Add a new item to the original dictionary, and see that the keys list gets updated as well:\n",
        "bike = {\n",
        "\"brand\": \"RE\",\n",
        "\"model\": \"continental GT\",\n",
        "\"year\": 1964\n",
        "}\n",
        "\n",
        "x = bike.keys()\n",
        "\n",
        "print(x)\n",
        "\n",
        "bike[\"color\"] = \"silver\"\n",
        "\n",
        "print(x)\n"
      ],
      "metadata": {
        "colab": {
          "base_uri": "https://localhost:8080/"
        },
        "id": "ncUUDWmbZOQw",
        "outputId": "ce1849c1-a8ea-4bb8-9d1f-a6b5ace1e0d5"
      },
      "execution_count": 52,
      "outputs": [
        {
          "output_type": "stream",
          "name": "stdout",
          "text": [
            "dict_keys(['brand', 'model', 'year'])\n",
            "dict_keys(['brand', 'model', 'year', 'color'])\n"
          ]
        }
      ]
    },
    {
      "cell_type": "code",
      "source": [
        "#Make a change in the original dictionary, and see that the items list gets updated as well:\n",
        "bike = {\n",
        "\"brand\": \"RE\",\n",
        "\"model\": \"gt\",\n",
        "\"year\": 1964\n",
        "}\n",
        "\n",
        "x = bike.items()\n",
        "\n",
        "print(x) \n",
        "\n",
        "bike[\"year\"] = 2020\n",
        "\n",
        "print(x)\n"
      ],
      "metadata": {
        "colab": {
          "base_uri": "https://localhost:8080/"
        },
        "id": "xyAnFyfBZSAy",
        "outputId": "ef2e1949-8a74-455d-92d5-7e48bef7a646"
      },
      "execution_count": 53,
      "outputs": [
        {
          "output_type": "stream",
          "name": "stdout",
          "text": [
            "dict_items([('brand', 'RE'), ('model', 'gt'), ('year', 1964)])\n",
            "dict_items([('brand', 'RE'), ('model', 'gt'), ('year', 2020)])\n"
          ]
        }
      ]
    },
    {
      "cell_type": "code",
      "source": [
        "#Check if \"model\" is present in the dictionary:\n",
        "x = {\n",
        "  \"brand\": \"RE\",\n",
        "  \"model\": \"GT\",\n",
        "  \"year\": 1964\n",
        "}\n",
        "if \"model\" in x:\n",
        "  print(\"Yes, 'model' is one of the keys in the x dictionary\")"
      ],
      "metadata": {
        "colab": {
          "base_uri": "https://localhost:8080/"
        },
        "id": "0QT2HDP2ZV45",
        "outputId": "502eddc9-f65a-4b34-d830-01e1f7fed5db"
      },
      "execution_count": 56,
      "outputs": [
        {
          "output_type": "stream",
          "name": "stdout",
          "text": [
            "Yes, 'model' is one of the keys in the x dictionary\n"
          ]
        }
      ]
    },
    {
      "cell_type": "code",
      "source": [
        "#Change the \"year\" to 2018:\n",
        "x = {\n",
        "  \"brand\": \"RE\",\n",
        "  \"model\": \"GT\",\n",
        "  \"year\": 1964\n",
        "}\n",
        "x[\"year\"] = 2018\n",
        "print(x)\n"
      ],
      "metadata": {
        "colab": {
          "base_uri": "https://localhost:8080/"
        },
        "id": "ZN0e280WZX1V",
        "outputId": "c168414c-2765-4284-f4c1-41f38d5bd9a1"
      },
      "execution_count": 55,
      "outputs": [
        {
          "output_type": "stream",
          "name": "stdout",
          "text": [
            "{'brand': 'RE', 'model': 'GT', 'year': 2018}\n"
          ]
        }
      ]
    },
    {
      "cell_type": "code",
      "source": [
        "#Update the \"year\" of the car by using the update() method:\n",
        "x = {\n",
        "  \"brand\": \"re\",\n",
        "  \"model\": \"gt\",\n",
        "  \"year\": 1964\n",
        "}\n",
        "x.update({\"year\": 2020})\n",
        "\n",
        "print(x)\n"
      ],
      "metadata": {
        "colab": {
          "base_uri": "https://localhost:8080/"
        },
        "id": "uzmWr9UKZc9o",
        "outputId": "4646bdcb-12c3-409a-83e3-87b6cd9a1ebf"
      },
      "execution_count": 57,
      "outputs": [
        {
          "output_type": "stream",
          "name": "stdout",
          "text": [
            "{'brand': 're', 'model': 'gt', 'year': 2020}\n"
          ]
        }
      ]
    },
    {
      "cell_type": "code",
      "source": [
        "#Adding an item to the dictionary is done by using a new index key and assigning a value to it:\n",
        "x= {\n",
        "  \"brand\": \"Re\",\n",
        "  \"model\": \"classic 350\",\n",
        "  \"year\": 1964\n",
        "}\n",
        "x[\"color\"] = \"red\"\n",
        "print(x)\n"
      ],
      "metadata": {
        "colab": {
          "base_uri": "https://localhost:8080/"
        },
        "id": "GCkYA8tTZlum",
        "outputId": "777ebdf2-72f7-46dc-a990-2f7d61cba39b"
      },
      "execution_count": 58,
      "outputs": [
        {
          "output_type": "stream",
          "name": "stdout",
          "text": [
            "{'brand': 'Re', 'model': 'classic 350', 'year': 1964, 'color': 'red'}\n"
          ]
        }
      ]
    },
    {
      "cell_type": "code",
      "source": [
        "#Add a color item to the dictionary by using the update() method:\n",
        "x = {\n",
        "  \"brand\": \"re\",\n",
        "  \"model\": \"gt\",\n",
        "  \"year\": 1964\n",
        "}\n",
        "x.update({\"color\": \"red\"})\n",
        "\n",
        "print(x)\n"
      ],
      "metadata": {
        "colab": {
          "base_uri": "https://localhost:8080/"
        },
        "id": "a1ESVjgCZpYp",
        "outputId": "c6c7ef2f-808b-4cc0-909c-b60f3f3492ae"
      },
      "execution_count": 59,
      "outputs": [
        {
          "output_type": "stream",
          "name": "stdout",
          "text": [
            "{'brand': 're', 'model': 'gt', 'year': 1964, 'color': 'red'}\n"
          ]
        }
      ]
    },
    {
      "cell_type": "code",
      "source": [
        "#The pop() method removes the item with the specified key name:\n",
        "x =\t{\n",
        "  \"brand\": \"re\",\n",
        "  \"model\": \"gt\",\n",
        "  \"year\": 1964\n",
        "}\n",
        "x.pop(\"model\")\n",
        "print(x)\n"
      ],
      "metadata": {
        "colab": {
          "base_uri": "https://localhost:8080/"
        },
        "id": "7ebDttUQZs7J",
        "outputId": "8e301857-042c-4a2f-f4e3-b26e6c94d083"
      },
      "execution_count": 60,
      "outputs": [
        {
          "output_type": "stream",
          "name": "stdout",
          "text": [
            "{'brand': 're', 'year': 1964}\n"
          ]
        }
      ]
    },
    {
      "cell_type": "code",
      "source": [
        "#The del keyword removes the item with the specified key name:\n",
        "x = {\n",
        "  \"brand\": \"re\",\n",
        "  \"model\": \"gt\",\n",
        "  \"year\": 1964\n",
        "}\n",
        "del x[\"model\"]\n",
        "print(x)\n"
      ],
      "metadata": {
        "colab": {
          "base_uri": "https://localhost:8080/"
        },
        "id": "tEz8IIS-Zyqc",
        "outputId": "ca5d81d0-a4b7-44d2-fcab-2ba53c9dbe58"
      },
      "execution_count": 61,
      "outputs": [
        {
          "output_type": "stream",
          "name": "stdout",
          "text": [
            "{'brand': 're', 'year': 1964}\n"
          ]
        }
      ]
    },
    {
      "cell_type": "code",
      "source": [
        "#The clear() method empties the dictionary:\n",
        "x = {\n",
        "  \"brand\": \"re\",\n",
        "  \"model\": \"gt\",\n",
        "  \"year\": 1964\n",
        "}\n",
        "x.clear()\n",
        "print(x)\n"
      ],
      "metadata": {
        "colab": {
          "base_uri": "https://localhost:8080/"
        },
        "id": "cwiIGAdhZ2bh",
        "outputId": "71b15769-8273-4d5e-9e7c-03836d04c8c4"
      },
      "execution_count": 62,
      "outputs": [
        {
          "output_type": "stream",
          "name": "stdout",
          "text": [
            "{}\n"
          ]
        }
      ]
    },
    {
      "cell_type": "code",
      "source": [
        "#Create a dictionary that contain three dictionaries\n",
        "friends = {\n",
        "  \"child1\" : {\n",
        "    \"name\" : \"prajwal\",\n",
        "    \"year\" : 2004\n",
        "  },\n",
        "  \"child2\" : {\n",
        "    \"name\" : \"amrutg\",\n",
        "    \"year\" : 2007\n",
        "  },\n",
        "  \"child3\" : {\n",
        "    \"name\" : \"ashok\",\n",
        "    \"year\" : 2011\n",
        "  }\n",
        "}\n",
        "print(friends)\n"
      ],
      "metadata": {
        "colab": {
          "base_uri": "https://localhost:8080/"
        },
        "id": "J25y6OneZ7vg",
        "outputId": "c5896138-4f98-44eb-a161-1560902c119c"
      },
      "execution_count": 63,
      "outputs": [
        {
          "output_type": "stream",
          "name": "stdout",
          "text": [
            "{'child1': {'name': 'prajwal', 'year': 2004}, 'child2': {'name': 'amrutg', 'year': 2007}, 'child3': {'name': 'ashok', 'year': 2011}}\n"
          ]
        }
      ]
    },
    {
      "cell_type": "code",
      "source": [
        "#Create three dictionaries, then create one dictionary that will contain the other three dictionaries:\n",
        "child1 = {\n",
        "  \"name\" : \"prajwal\",\n",
        "  \"year\" : 2004\n",
        "}\n",
        "child2 = {\n",
        "  \"name\" : \"amruth\",\n",
        "  \"year\" : 2007\n",
        "}\n",
        "child3 = {\n",
        "  \"name\" : \"ashok\",\n",
        "  \"year\" : 2011\n",
        "}\n",
        "\n",
        "friends = {\n",
        "  \"child1\" : child1,\n",
        "  \"child2\" : child2,\n",
        "  \"child3\" : child3\n",
        "}\n",
        "\n",
        "print(friends)\n"
      ],
      "metadata": {
        "colab": {
          "base_uri": "https://localhost:8080/"
        },
        "id": "f_0hT53uaFMR",
        "outputId": "cb5548cc-68d0-4dbc-d30b-118d4a53a2c7"
      },
      "execution_count": 64,
      "outputs": [
        {
          "output_type": "stream",
          "name": "stdout",
          "text": [
            "{'child1': {'name': 'prajwal', 'year': 2004}, 'child2': {'name': 'amruth', 'year': 2007}, 'child3': {'name': 'ashok', 'year': 2011}}\n"
          ]
        }
      ]
    },
    {
      "cell_type": "code",
      "source": [
        "#Make a copy of a dictionary with the copy() method:\n",
        "x = {\n",
        "  \"brand\": \"re\",\n",
        "  \"model\": \"gt\",\n",
        "  \"year\": 1964\n",
        "}\n",
        "y = x.copy()\n",
        "print(x)\n"
      ],
      "metadata": {
        "colab": {
          "base_uri": "https://localhost:8080/"
        },
        "id": "D913tNeuaKHS",
        "outputId": "2edd4445-e292-4059-a631-6467a1108134"
      },
      "execution_count": 65,
      "outputs": [
        {
          "output_type": "stream",
          "name": "stdout",
          "text": [
            "{'brand': 're', 'model': 'gt', 'year': 1964}\n"
          ]
        }
      ]
    },
    {
      "cell_type": "code",
      "source": [
        "# Make a copy of a dictionary with the dict() function:\n",
        "x = {\n",
        "  \"brand\": \"RE\",\n",
        "  \"model\": \"GT\",\n",
        "  \"year\": 1964\n",
        "}\n",
        "y = dict(x)\n",
        "print(x)\n"
      ],
      "metadata": {
        "colab": {
          "base_uri": "https://localhost:8080/"
        },
        "id": "wtkXnDZQaRo0",
        "outputId": "ef3b1746-628b-4904-bd85-5f1b52be521b"
      },
      "execution_count": 66,
      "outputs": [
        {
          "output_type": "stream",
          "name": "stdout",
          "text": [
            "{'brand': 'RE', 'model': 'GT', 'year': 1964}\n"
          ]
        }
      ]
    }
  ]
}