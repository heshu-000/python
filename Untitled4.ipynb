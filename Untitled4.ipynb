{
  "nbformat": 4,
  "nbformat_minor": 0,
  "metadata": {
    "colab": {
      "name": "Untitled4.ipynb",
      "provenance": [],
      "authorship_tag": "ABX9TyNeYql90nGNzR+fQHM1xqSv",
      "include_colab_link": true
    },
    "kernelspec": {
      "name": "python3",
      "display_name": "Python 3"
    },
    "language_info": {
      "name": "python"
    }
  },
  "cells": [
    {
      "cell_type": "markdown",
      "metadata": {
        "id": "view-in-github",
        "colab_type": "text"
      },
      "source": [
        "<a href=\"https://colab.research.google.com/github/heshu-000/python/blob/main/Untitled4.ipynb\" target=\"_parent\"><img src=\"https://colab.research.google.com/assets/colab-badge.svg\" alt=\"Open In Colab\"/></a>"
      ]
    },
    {
      "cell_type": "code",
      "execution_count": 1,
      "metadata": {
        "colab": {
          "base_uri": "https://localhost:8080/"
        },
        "id": "O05HIG8LQm-9",
        "outputId": "65da5cb6-3482-49bd-cf4c-2d6df780ed5a"
      },
      "outputs": [
        {
          "output_type": "stream",
          "name": "stdout",
          "text": [
            "<class 'int'>\n",
            "<class 'str'>\n",
            "<class 'float'>\n"
          ]
        }
      ],
      "source": [
        "a=1\n",
        "b=\"2\"\n",
        "c=0.3\n",
        "print(type(a))\n",
        "print(type(b))\n",
        "print(type(c))\n",
        "\n",
        "\n"
      ]
    },
    {
      "cell_type": "code",
      "source": [
        "\n",
        "num = input (\"Enter number :\")\n",
        "print(num)\n",
        "name1 = input(\"Enter name : \")\n",
        "print(name1)\n",
        "\n",
        "# Printing type of input value\n",
        "print (\"type of number\", type(num))\n",
        "print (\"type of name\", type(name1))\n"
      ],
      "metadata": {
        "colab": {
          "base_uri": "https://localhost:8080/"
        },
        "id": "uZmYFIO6Q_os",
        "outputId": "f6237d2c-3682-4581-97ec-cadf5355d1b5"
      },
      "execution_count": 4,
      "outputs": [
        {
          "output_type": "stream",
          "name": "stdout",
          "text": [
            "Enter number :2\n",
            "2\n",
            "Enter name : 3\n",
            "3\n",
            "type of number <class 'str'>\n",
            "type of name <class 'str'>\n"
          ]
        }
      ]
    },
    {
      "cell_type": "code",
      "source": [
        "a=10\n",
        "print(a)\n"
      ],
      "metadata": {
        "colab": {
          "base_uri": "https://localhost:8080/"
        },
        "id": "taCwP4XxWLU8",
        "outputId": "8a4863cc-2b32-4e55-b5ee-5bd2ab1fc99e"
      },
      "execution_count": 5,
      "outputs": [
        {
          "output_type": "stream",
          "name": "stdout",
          "text": [
            "10\n"
          ]
        }
      ]
    },
    {
      "cell_type": "code",
      "source": [
        "a=int(input(\"enter a value\"))\n",
        "b=int(input(\"enter a value\"))\n",
        "c=int(input(\"enter a value\"))"
      ],
      "metadata": {
        "id": "_R4IKTa-XJzD"
      },
      "execution_count": null,
      "outputs": []
    }
  ]
}